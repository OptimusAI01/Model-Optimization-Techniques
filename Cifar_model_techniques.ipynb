{
  "cells": [
    {
      "cell_type": "markdown",
      "metadata": {},
      "source": [
        "## In this notebook we discuss the 3 most important ways to decrease the size of a model while retaining most of the model's intelligence."
      ]
    },
    {
      "cell_type": "markdown",
      "metadata": {},
      "source": [
        "- > 1- Pruning\n",
        "- > 2- Quantization\n",
        "- > 3- Distillation"
      ]
    },
    {
      "cell_type": "code",
      "execution_count": 1,
      "metadata": {
        "colab": {
          "base_uri": "https://localhost:8080/"
        },
        "id": "AKnZXY2Syu6s",
        "outputId": "3b36ff84-6726-47c2-ae3b-b0217b8d4fc7"
      },
      "outputs": [
        {
          "name": "stdout",
          "output_type": "stream",
          "text": [
            "Collecting tensorflow_model_optimization\n",
            "  Downloading tensorflow_model_optimization-0.8.0-py2.py3-none-any.whl.metadata (904 bytes)\n",
            "Requirement already satisfied: absl-py~=1.2 in /usr/local/lib/python3.11/dist-packages (from tensorflow_model_optimization) (1.4.0)\n",
            "Requirement already satisfied: dm-tree~=0.1.1 in /usr/local/lib/python3.11/dist-packages (from tensorflow_model_optimization) (0.1.9)\n",
            "Requirement already satisfied: numpy~=1.23 in /usr/local/lib/python3.11/dist-packages (from tensorflow_model_optimization) (1.26.4)\n",
            "Requirement already satisfied: six~=1.14 in /usr/local/lib/python3.11/dist-packages (from tensorflow_model_optimization) (1.17.0)\n",
            "Requirement already satisfied: attrs>=18.2.0 in /usr/local/lib/python3.11/dist-packages (from dm-tree~=0.1.1->tensorflow_model_optimization) (25.1.0)\n",
            "Requirement already satisfied: wrapt>=1.11.2 in /usr/local/lib/python3.11/dist-packages (from dm-tree~=0.1.1->tensorflow_model_optimization) (1.17.2)\n",
            "Downloading tensorflow_model_optimization-0.8.0-py2.py3-none-any.whl (242 kB)\n",
            "\u001b[?25l   \u001b[90m━━━━━━━━━━━━━━━━━━━━━━━━━━━━━━━━━━━━━━━━\u001b[0m \u001b[32m0.0/242.5 kB\u001b[0m \u001b[31m?\u001b[0m eta \u001b[36m-:--:--\u001b[0m\r\u001b[2K   \u001b[90m━━━━━━━━━━━━━━━━━━━━━━━━━━━━━━━━━━━━━━━━\u001b[0m \u001b[32m242.5/242.5 kB\u001b[0m \u001b[31m7.1 MB/s\u001b[0m eta \u001b[36m0:00:00\u001b[0m\n",
            "\u001b[?25hInstalling collected packages: tensorflow_model_optimization\n",
            "Successfully installed tensorflow_model_optimization-0.8.0\n"
          ]
        }
      ],
      "source": [
        "!pip install tensorflow_model_optimization"
      ]
    },
    {
      "cell_type": "code",
      "execution_count": 2,
      "metadata": {
        "colab": {
          "base_uri": "https://localhost:8080/"
        },
        "id": "bkX8sa-m8wNr",
        "outputId": "026c16df-3919-449c-b2a6-10d6913afd03"
      },
      "outputs": [
        {
          "name": "stdout",
          "output_type": "stream",
          "text": [
            "Found existing installation: keras 3.8.0\n",
            "Uninstalling keras-3.8.0:\n",
            "  Would remove:\n",
            "    /usr/local/lib/python3.11/dist-packages/keras-3.8.0.dist-info/*\n",
            "    /usr/local/lib/python3.11/dist-packages/keras/*\n",
            "Proceed (Y/n)? y\n",
            "  Successfully uninstalled keras-3.8.0\n"
          ]
        }
      ],
      "source": [
        "!pip uninstall keras"
      ]
    },
    {
      "cell_type": "code",
      "execution_count": 3,
      "metadata": {
        "id": "Y9IX0spp9DjJ"
      },
      "outputs": [],
      "source": [
        "import tensorflow as tf\n",
        "import tensorflow_model_optimization as tfmot\n",
        "import os\n",
        "import matplotlib.pyplot as plt\n",
        "import time\n",
        "import numpy as np"
      ]
    },
    {
      "cell_type": "code",
      "execution_count": 4,
      "metadata": {
        "id": "zc10vPFbgNSa"
      },
      "outputs": [],
      "source": [
        "# Use tf.keras instead of tensorflow.keras\n",
        "datasets = tf.keras.datasets\n",
        "layers = tf.keras.layers\n",
        "models = tf.keras.models\n",
        "applications = tf.keras.applications"
      ]
    },
    {
      "cell_type": "code",
      "execution_count": 5,
      "metadata": {
        "colab": {
          "base_uri": "https://localhost:8080/"
        },
        "id": "RoX-TJwG-y9o",
        "outputId": "fc3d9965-c1a6-48dd-abee-9dec874d7e11"
      },
      "outputs": [
        {
          "name": "stdout",
          "output_type": "stream",
          "text": [
            "Downloading data from https://www.cs.toronto.edu/~kriz/cifar-10-python.tar.gz\n",
            "170498071/170498071 [==============================] - 4s 0us/step\n"
          ]
        }
      ],
      "source": [
        "# Load CIFAR-10\n",
        "(train_images, train_labels), (test_images, test_labels) = datasets.cifar10.load_data()"
      ]
    },
    {
      "cell_type": "code",
      "execution_count": 6,
      "metadata": {
        "id": "4mtEw2oqGgiU"
      },
      "outputs": [],
      "source": [
        "# Create a tf.data.Dataset pipeline with resizing\n",
        "def preprocess(image, label):\n",
        "    image = tf.image.resize(image, [224, 224])  # Resize on-the-fly\n",
        "    image = image / 255.0  # Normalize\n",
        "    return image, label\n",
        "\n",
        "batch_size = 32\n",
        "\n",
        "# Create datasets with batching and preprocessing\n",
        "train_dataset = tf.data.Dataset.from_tensor_slices((train_images, train_labels))\n",
        "train_dataset = train_dataset.map(preprocess).batch(batch_size).prefetch(tf.data.AUTOTUNE)\n",
        "\n",
        "test_dataset = tf.data.Dataset.from_tensor_slices((test_images, test_labels))\n",
        "test_dataset = test_dataset.map(preprocess).batch(batch_size).prefetch(tf.data.AUTOTUNE)"
      ]
    },
    {
      "cell_type": "code",
      "execution_count": 7,
      "metadata": {
        "colab": {
          "base_uri": "https://localhost:8080/"
        },
        "id": "hlrCXWi2_UY3",
        "outputId": "ab65089e-6b76-47c1-867c-c2a474e899d0"
      },
      "outputs": [
        {
          "name": "stdout",
          "output_type": "stream",
          "text": [
            "Downloading data from https://storage.googleapis.com/tensorflow/keras-applications/resnet/resnet50_weights_tf_dim_ordering_tf_kernels_notop.h5\n",
            "94765736/94765736 [==============================] - 1s 0us/step\n"
          ]
        }
      ],
      "source": [
        "# Load ResNet50 model\n",
        "base_model = applications.ResNet50(\n",
        "    weights='imagenet',\n",
        "    include_top=False,\n",
        "    input_shape=(224, 224, 3)\n",
        ")"
      ]
    },
    {
      "cell_type": "code",
      "execution_count": 8,
      "metadata": {
        "id": "9SkJE95v_k4T"
      },
      "outputs": [],
      "source": [
        "# Freeze the base model and add custom classification head\n",
        "base_model.trainable = False\n",
        "model = models.Sequential([\n",
        "    base_model,\n",
        "    layers.GlobalAveragePooling2D(),\n",
        "    layers.Dense(256, activation='relu'),\n",
        "    layers.Dense(10, activation='softmax')\n",
        "])"
      ]
    },
    {
      "cell_type": "code",
      "execution_count": 9,
      "metadata": {
        "colab": {
          "base_uri": "https://localhost:8080/"
        },
        "id": "W4XzIJ1N_mF2",
        "outputId": "e50db1ff-7843-4771-95d8-e965f622449d"
      },
      "outputs": [
        {
          "name": "stdout",
          "output_type": "stream",
          "text": [
            "Epoch 1/10\n",
            "1563/1563 [==============================] - 191s 118ms/step - loss: 2.2389 - accuracy: 0.1580 - val_loss: 2.1654 - val_accuracy: 0.1751\n",
            "Epoch 2/10\n",
            "1563/1563 [==============================] - 199s 127ms/step - loss: 2.0540 - accuracy: 0.2333 - val_loss: 2.0322 - val_accuracy: 0.2421\n",
            "Epoch 3/10\n",
            "1563/1563 [==============================] - 198s 127ms/step - loss: 1.9861 - accuracy: 0.2559 - val_loss: 1.9868 - val_accuracy: 0.2612\n",
            "Epoch 4/10\n",
            "1563/1563 [==============================] - 188s 120ms/step - loss: 1.9440 - accuracy: 0.2750 - val_loss: 1.9532 - val_accuracy: 0.2780\n",
            "Epoch 5/10\n",
            "1563/1563 [==============================] - 188s 120ms/step - loss: 1.9094 - accuracy: 0.2901 - val_loss: 1.9170 - val_accuracy: 0.2989\n",
            "Epoch 6/10\n",
            "1563/1563 [==============================] - 188s 120ms/step - loss: 1.8845 - accuracy: 0.3042 - val_loss: 1.8714 - val_accuracy: 0.3192\n",
            "Epoch 7/10\n",
            "1563/1563 [==============================] - 198s 127ms/step - loss: 1.8565 - accuracy: 0.3183 - val_loss: 1.8488 - val_accuracy: 0.3285\n",
            "Epoch 8/10\n",
            "1563/1563 [==============================] - 188s 120ms/step - loss: 1.8322 - accuracy: 0.3306 - val_loss: 1.8183 - val_accuracy: 0.3435\n",
            "Epoch 9/10\n",
            "1563/1563 [==============================] - 198s 126ms/step - loss: 1.8102 - accuracy: 0.3390 - val_loss: 1.8134 - val_accuracy: 0.3535\n",
            "Epoch 10/10\n",
            "1563/1563 [==============================] - 198s 126ms/step - loss: 1.7922 - accuracy: 0.3462 - val_loss: 1.8108 - val_accuracy: 0.3534\n"
          ]
        },
        {
          "data": {
            "text/plain": [
              "<tf_keras.src.callbacks.History at 0x7894fb618a50>"
            ]
          },
          "execution_count": 9,
          "metadata": {},
          "output_type": "execute_result"
        }
      ],
      "source": [
        "# Compile and train top layers\n",
        "model.compile(optimizer='adam', loss='sparse_categorical_crossentropy', metrics=['accuracy'])\n",
        "model.fit(train_dataset, epochs=10, validation_data=test_dataset) # 33 min"
      ]
    },
    {
      "cell_type": "code",
      "execution_count": 10,
      "metadata": {
        "id": "vhVSn1-SGrOc"
      },
      "outputs": [],
      "source": [
        "# Unfreeze some layers for fine-tuning\n",
        "base_model.trainable = True\n",
        "for layer in base_model.layers[:100]:\n",
        "    layer.trainable = False  # Freeze first 100 layers"
      ]
    },
    {
      "cell_type": "code",
      "execution_count": 11,
      "metadata": {
        "colab": {
          "base_uri": "https://localhost:8080/"
        },
        "id": "JZkNbccm7AM_",
        "outputId": "5ac5783a-2f97-4c2e-e606-b26d08a52223"
      },
      "outputs": [
        {
          "name": "stdout",
          "output_type": "stream",
          "text": [
            "Name: tensorflow\n",
            "Version: 2.18.0\n",
            "Summary: TensorFlow is an open source machine learning framework for everyone.\n",
            "Home-page: https://www.tensorflow.org/\n",
            "Author: Google Inc.\n",
            "Author-email: packages@tensorflow.org\n",
            "License: Apache 2.0\n",
            "Location: /usr/local/lib/python3.11/dist-packages\n",
            "Requires: absl-py, astunparse, flatbuffers, gast, google-pasta, grpcio, h5py, keras, libclang, ml-dtypes, numpy, opt-einsum, packaging, protobuf, requests, setuptools, six, tensorboard, tensorflow-io-gcs-filesystem, termcolor, typing-extensions, wrapt\n",
            "Required-by: dopamine_rl, tensorflow-text, tf_keras\n"
          ]
        }
      ],
      "source": [
        "!pip show tensorflow"
      ]
    },
    {
      "cell_type": "code",
      "execution_count": 12,
      "metadata": {
        "colab": {
          "base_uri": "https://localhost:8080/"
        },
        "id": "3Ohj9l8IG9vr",
        "outputId": "6878e8d5-d8d5-4e5e-f105-074ca3f5b499"
      },
      "outputs": [
        {
          "name": "stdout",
          "output_type": "stream",
          "text": [
            "Epoch 1/3\n",
            "1563/1563 [==============================] - 333s 204ms/step - loss: 1.8851 - accuracy: 0.3658 - val_loss: 1.9291 - val_accuracy: 0.3725\n",
            "Epoch 2/3\n",
            "1563/1563 [==============================] - 328s 210ms/step - loss: 1.4682 - accuracy: 0.4870 - val_loss: 2.1790 - val_accuracy: 0.3486\n",
            "Epoch 3/3\n",
            "1563/1563 [==============================] - 317s 203ms/step - loss: 1.3120 - accuracy: 0.5394 - val_loss: 3.0735 - val_accuracy: 0.2939\n"
          ]
        },
        {
          "data": {
            "text/plain": [
              "<tf_keras.src.callbacks.History at 0x7894f8b42fd0>"
            ]
          },
          "execution_count": 12,
          "metadata": {},
          "output_type": "execute_result"
        }
      ],
      "source": [
        "# Fine tune model\n",
        "model.compile(optimizer=tf.keras.optimizers.Adam(1e-5), loss='sparse_categorical_crossentropy', metrics=['accuracy'])\n",
        "model.fit(train_dataset, epochs=3, validation_data=test_dataset) # 17 min"
      ]
    },
    {
      "cell_type": "markdown",
      "metadata": {},
      "source": [
        "### Pruning"
      ]
    },
    {
      "cell_type": "code",
      "execution_count": null,
      "metadata": {
        "colab": {
          "base_uri": "https://localhost:8080/"
        },
        "collapsed": true,
        "id": "LCeXJqikIQ86",
        "outputId": "071a9d8c-fdae-486a-f1fe-aab21101c016"
      },
      "outputs": [
        {
          "name": "stdout",
          "output_type": "stream",
          "text": [
            "Epoch 1/5\n",
            "1563/1563 [==============================] - 410s 221ms/step - loss: 2.4941 - accuracy: 0.1007\n",
            "Epoch 2/5\n",
            "1563/1563 [==============================] - 340s 217ms/step - loss: 2.3028 - accuracy: 0.0972\n",
            "Epoch 3/5\n",
            "1563/1563 [==============================] - 338s 216ms/step - loss: 2.3028 - accuracy: 0.0963\n",
            "Epoch 4/5\n",
            "1563/1563 [==============================] - 338s 216ms/step - loss: 2.3029 - accuracy: 0.0959\n",
            "Epoch 5/5\n",
            "1563/1563 [==============================] - 339s 217ms/step - loss: 2.3028 - accuracy: 0.0963\n"
          ]
        }
      ],
      "source": [
        "prune_low_magnitude = tfmot.sparsity.keras.prune_low_magnitude\n",
        "# Apply pruning to the trained model\n",
        "pruning_params = { 'pruning_schedule': tfmot.sparsity.keras.PolynomialDecay(\n",
        "     initial_sparsity=0.30, final_sparsity=0.70, begin_step=0, end_step=len(train_images)//32 * 5) }\n",
        "model_pruned = prune_low_magnitude(model, **pruning_params)\n",
        "model_pruned.compile(optimizer='adam', loss='sparse_categorical_crossentropy', metrics=['accuracy'])\n",
        "model_pruned.fit(train_dataset, epochs=5, callbacks=[tfmot.sparsity.keras.UpdatePruningStep()])\n",
        "# Strip pruning\n",
        "model_pruned = tfmot.sparsity.keras.strip_pruning(model_pruned) # 30 min"
      ]
    },
    {
      "cell_type": "code",
      "execution_count": 14,
      "metadata": {
        "colab": {
          "base_uri": "https://localhost:8080/"
        },
        "id": "1AjqoqR5k5sK",
        "outputId": "d36494da-9395-40ce-c1b2-328e179b8192"
      },
      "outputs": [
        {
          "name": "stdout",
          "output_type": "stream",
          "text": [
            "Epoch 1/2\n",
            "1563/1563 [==============================] - 293s 176ms/step - loss: 2.3028 - accuracy: 0.0968\n",
            "Epoch 2/2\n",
            "1563/1563 [==============================] - 275s 176ms/step - loss: 2.3028 - accuracy: 0.0960\n"
          ]
        },
        {
          "data": {
            "text/plain": [
              "<tf_keras.src.callbacks.History at 0x78920af00690>"
            ]
          },
          "execution_count": 14,
          "metadata": {},
          "output_type": "execute_result"
        }
      ],
      "source": [
        "# Fine tune\n",
        "model_pruned.compile(optimizer='adam', loss='sparse_categorical_crossentropy', metrics=['accuracy'])\n",
        "model_pruned.fit(train_dataset, epochs=2) # 10 min"
      ]
    },
    {
      "cell_type": "markdown",
      "metadata": {},
      "source": [
        "### Quantization"
      ]
    },
    {
      "cell_type": "code",
      "execution_count": 15,
      "metadata": {
        "collapsed": true,
        "id": "VTqMaYN6IIpi"
      },
      "outputs": [],
      "source": [
        "# Convert to Tensorflow Lite with quantization to lower precision\n",
        "converter = tf.lite.TFLiteConverter.from_keras_model(model)\n",
        "converter.optimizations = [tf.lite.Optimize.DEFAULT]\n",
        "quantized_model = converter.convert()\n",
        "\n",
        "# Save quantized model for later analysis\n",
        "with open('quantized_model.tflite', 'wb') as f:\n",
        "    f.write(quantized_model)"
      ]
    },
    {
      "cell_type": "markdown",
      "metadata": {},
      "source": [
        "### Distillation"
      ]
    },
    {
      "cell_type": "code",
      "execution_count": null,
      "metadata": {
        "id": "0AbRih1XIl3M"
      },
      "outputs": [],
      "source": [
        "# We define a smaller student model (e.g., MobileNetV2)\n",
        "student = models.Sequential([\n",
        "    applications.MobileNetV2(\n",
        "        input_shape=(224, 224, 3),\n",
        "        include_top=False,\n",
        "        weights=None,\n",
        "        pooling='avg'\n",
        "    ),\n",
        "    layers.Dense(10, activation='softmax')\n",
        "])"
      ]
    },
    {
      "cell_type": "code",
      "execution_count": 17,
      "metadata": {
        "colab": {
          "base_uri": "https://localhost:8080/"
        },
        "id": "O8uusqEZpMzK",
        "outputId": "5f7d5d0a-e15f-45c4-bf5f-f08b89da17b5"
      },
      "outputs": [
        {
          "name": "stdout",
          "output_type": "stream",
          "text": [
            "782/782 [==============================] - 149s 188ms/step\n"
          ]
        }
      ],
      "source": [
        "# Create dataset for teacher predictions\n",
        "batch_size = 64\n",
        "teacher_predict_dataset = (\n",
        "    tf.data.Dataset.from_tensor_slices((train_images, train_labels))\n",
        "    .map(preprocess)\n",
        "    .batch(batch_size)\n",
        "    .prefetch(tf.data.AUTOTUNE)\n",
        ")\n",
        "\n",
        "# Generate teacher predictions (soft labels)\n",
        "teacher_predictions = model.predict(teacher_predict_dataset)"
      ]
    },
    {
      "cell_type": "code",
      "execution_count": 18,
      "metadata": {
        "id": "Y0vf6JRSpwz6"
      },
      "outputs": [],
      "source": [
        "# Create dataset for student training: (224x224 images, teacher_predictions)\n",
        "student_train_dataset = (\n",
        "    tf.data.Dataset.from_tensor_slices((train_images, teacher_predictions))\n",
        "    .map(lambda img, pred: (preprocess(img, pred)[0], pred))  # Use preprocessed image + teacher prediction\n",
        "    .batch(batch_size)\n",
        "    .prefetch(tf.data.AUTOTUNE)\n",
        ")"
      ]
    },
    {
      "cell_type": "code",
      "execution_count": null,
      "metadata": {
        "colab": {
          "base_uri": "https://localhost:8080/"
        },
        "id": "RDPTyWPZI6JC",
        "outputId": "3c0ec9e7-6ffb-4636-d809-ce877916a0a7"
      },
      "outputs": [
        {
          "name": "stdout",
          "output_type": "stream",
          "text": [
            "Epoch 1/10\n",
            "782/782 [==============================] - 217s 246ms/step - loss: 0.0017 - accuracy: 0.5266\n",
            "Epoch 2/10\n",
            "782/782 [==============================] - 193s 246ms/step - loss: 2.9484e-05 - accuracy: 0.7116\n",
            "Epoch 3/10\n",
            "782/782 [==============================] - 192s 246ms/step - loss: 3.5583e-05 - accuracy: 0.7199\n",
            "Epoch 4/10\n",
            "782/782 [==============================] - 193s 247ms/step - loss: 2.9332e-05 - accuracy: 0.7870\n",
            "Epoch 5/10\n",
            "782/782 [==============================] - 192s 246ms/step - loss: 1.2971e-05 - accuracy: 0.8942\n",
            "Epoch 6/10\n",
            "782/782 [==============================] - 193s 246ms/step - loss: 1.1337e-05 - accuracy: 0.9185\n",
            "Epoch 7/10\n",
            "782/782 [==============================] - 192s 246ms/step - loss: 1.6356e-05 - accuracy: 0.8811\n",
            "Epoch 8/10\n",
            "782/782 [==============================] - 192s 246ms/step - loss: 1.6329e-05 - accuracy: 0.9097\n",
            "Epoch 9/10\n",
            "782/782 [==============================] - 193s 246ms/step - loss: 1.8729e-05 - accuracy: 0.9008\n",
            "Epoch 10/10\n",
            "782/782 [==============================] - 192s 246ms/step - loss: 1.3804e-05 - accuracy: 0.9349\n"
          ]
        },
        {
          "data": {
            "text/plain": [
              "<tf_keras.src.callbacks.History at 0x789208c66b10>"
            ]
          },
          "execution_count": 19,
          "metadata": {},
          "output_type": "execute_result"
        }
      ],
      "source": [
        "# Distill knowledge to our model\n",
        "student.compile(optimizer='adam', loss='kl_divergence', metrics=['accuracy'])\n",
        "student.fit(student_train_dataset, epochs=10) # 34 min"
      ]
    },
    {
      "cell_type": "code",
      "execution_count": 20,
      "metadata": {
        "colab": {
          "base_uri": "https://localhost:8080/"
        },
        "id": "HuNkPM0B218s",
        "outputId": "8c4513b3-31c0-4edb-90fb-3e2f0605923d"
      },
      "outputs": [
        {
          "name": "stderr",
          "output_type": "stream",
          "text": [
            "/usr/local/lib/python3.11/dist-packages/tf_keras/src/engine/training.py:3098: UserWarning: You are saving your model as an HDF5 file via `model.save()`. This file format is considered legacy. We recommend using instead the native TF-Keras format, e.g. `model.save('my_model.keras')`.\n",
            "  saving_api.save_model(\n"
          ]
        }
      ],
      "source": [
        "# Save Models\n",
        "model.save(\"teacher_model.h5\")\n",
        "student.save(\"student_model.h5\")\n",
        "model_pruned.save(\"pruned_model.h5\")"
      ]
    },
    {
      "cell_type": "markdown",
      "metadata": {},
      "source": [
        "### Model Comparison"
      ]
    },
    {
      "cell_type": "code",
      "execution_count": 21,
      "metadata": {
        "colab": {
          "base_uri": "https://localhost:8080/"
        },
        "id": "GjnbewseJD-P",
        "outputId": "f8de68e7-1519-4384-ab52-dc3f7a276e2f"
      },
      "outputs": [
        {
          "name": "stdout",
          "output_type": "stream",
          "text": [
            "Original Model Size: 244.94183349609375 MB\n",
            "Quantized Model Size: 23.31218719482422 MB\n",
            "Pruned Model Size: 244.94183349609375 MB\n",
            "Student Model Size: 26.3834228515625 MB\n"
          ]
        }
      ],
      "source": [
        "def get_model_size(model_path):\n",
        "    return os.path.getsize(model_path) / (1024 * 1024)\n",
        "\n",
        "original_size = get_model_size('teacher_model.h5')\n",
        "quantized_size = get_model_size('quantized_model.tflite')\n",
        "pruned_size = get_model_size('pruned_model.h5')\n",
        "student_size = get_model_size('student_model.h5')\n",
        "print(f\"Original Model Size: {original_size:} MB\")\n",
        "print(f\"Quantized Model Size: {quantized_size:} MB\")\n",
        "print(f\"Pruned Model Size: {pruned_size:} MB\")\n",
        "print(f\"Student Model Size: {student_size:} MB\")"
      ]
    },
    {
      "cell_type": "markdown",
      "metadata": {},
      "source": [
        "#### Note: The model_pruned.save(\"pruned_model.h5\") size is the same as the original. This is expected because strip_pruning removes the pruning wrappers, but the underlying Keras model saved as H5 doesn't inherently shrink unless the layers themselves are replaced by smaller ones or the weights are truly zeroed out and a sparse format is used (which H5 doesn't do by default for dense layers). The real benefit of pruning often comes in conjunction with formats like TFLite that can represent sparsity, or with hardware that accelerates sparse computations."
      ]
    },
    {
      "cell_type": "code",
      "execution_count": 28,
      "metadata": {
        "colab": {
          "base_uri": "https://localhost:8080/"
        },
        "id": "0TLC-M6DJj6G",
        "outputId": "94bbd19d-ebab-4dda-a35e-934e8819b32a"
      },
      "outputs": [
        {
          "name": "stdout",
          "output_type": "stream",
          "text": [
            "1/1 [==============================] - 0s 66ms/step\n",
            "157/157 [==============================] - 31s 200ms/step\n",
            "1/1 [==============================] - 0s 68ms/step\n",
            "157/157 [==============================] - 29s 183ms/step\n",
            "1/1 [==============================] - 0s 68ms/step\n",
            "157/157 [==============================] - 11s 70ms/step\n",
            "Teacher Model: 40967.45 ms/image\n",
            "Pruned Model: 40965.44 ms/image\n",
            "Student Model: 20483.85 ms/image\n"
          ]
        }
      ],
      "source": [
        "def measure_inference_time(model, data):\n",
        "    # Warmup (avoid initial overhead)\n",
        "    model.predict(data.take(1))\n",
        "\n",
        "    # Measure time\n",
        "    start = time.time()\n",
        "    model.predict(data)\n",
        "    total_time = time.time() - start\n",
        "\n",
        "    return total_time* 1000  # ms\n",
        "\n",
        "def measure_tflite_inference_time(interpreter, data):\n",
        "    # Get input/output details\n",
        "    input_details = interpreter.get_input_details()\n",
        "    output_details = interpreter.get_output_details()\n",
        "\n",
        "    # Warmup\n",
        "    for batch in data.take(1):\n",
        "        images, _ = batch\n",
        "        interpreter.set_tensor(input_details[0]['index'], images)\n",
        "        interpreter.invoke()\n",
        "\n",
        "    # Measure time\n",
        "    start = time.time()\n",
        "    for batch in data:\n",
        "        images, _ = batch\n",
        "        interpreter.set_tensor(input_details[0]['index'], images)\n",
        "        interpreter.invoke()\n",
        "    total_time = time.time() - start\n",
        "\n",
        "    # Calculate ms per image\n",
        "    num_images = len(data.unbatch())\n",
        "    return (total_time / num_images) * 1000  # ms/image\n",
        "\n",
        "\n",
        "# Load TFLite quantized model\n",
        "interpreter = tf.lite.Interpreter(model_path='quantized_model.tflite')\n",
        "interpreter.allocate_tensors()\n",
        "\n",
        "# Measure inference times\n",
        "teacher_time = measure_inference_time(model, test_dataset)\n",
        "pruned_time = measure_inference_time(model_pruned, test_dataset)\n",
        "student_time = measure_inference_time(student, test_dataset)\n",
        "\n",
        "print(f\"Teacher Model: {teacher_time:.2f} ms/image\")\n",
        "print(f\"Pruned Model: {pruned_time:.2f} ms/image\")\n",
        "print(f\"Student Model: {student_time:.2f} ms/image\")"
      ]
    },
    {
      "cell_type": "code",
      "execution_count": 29,
      "metadata": {
        "id": "qj3NvRXvJ-n1"
      },
      "outputs": [],
      "source": [
        "# Evaluate all models on the preprocessed test_dataset\n",
        "teacher_acc = model.evaluate(test_dataset, verbose=0)[1]\n",
        "pruned_acc = model_pruned.evaluate(test_dataset, verbose=0)[1]\n",
        "student_acc = student.evaluate(test_dataset, verbose=0)[1]"
      ]
    },
    {
      "cell_type": "code",
      "execution_count": 34,
      "metadata": {
        "colab": {
          "base_uri": "https://localhost:8080/",
          "height": 1000
        },
        "id": "yxXVj4YMKYrC",
        "outputId": "fb725151-f262-48b2-db0b-4ca7e262a853"
      },
      "outputs": [
        {
          "data": {
            "image/png": "[encoded data removed]",
            "text/plain": [
              "<Figure size 1000x1000 with 2 Axes>"
            ]
          },
          "metadata": {},
          "output_type": "display_data"
        }
      ],
      "source": [
        "# Charts\n",
        "fig, axs = plt.subplots(2, figsize=(10, 10))\n",
        "\n",
        "axs[0].plot([original_size, pruned_size, student_size],\n",
        "         [teacher_acc, pruned_acc, student_acc], 'o-')\n",
        "axs[0].set_xlabel('Model Size (MB)')\n",
        "axs[0].set_ylabel('Accuracy')\n",
        "axs[0].set_title('Model Size vs. Accuracy')\n",
        "axs[0].grid(True)\n",
        "\n",
        "# Inference Time vs. Model Type\n",
        "axs[1].plot([\"Pruned\", \"Student\", \"Teacher\"],\n",
        "            [pruned_time, student_time, teacher_time], 'o-')\n",
        "axs[1].set_xlabel('Model Type')\n",
        "axs[1].set_ylabel('Inference Time (seconds)')\n",
        "axs[1].set_title('Inference Time vs. Model Type')\n",
        "axs[1].grid(True)\n",
        "plt.tight_layout()\n",
        "plt.show()"
      ]
    }
  ],
  "metadata": {
    "accelerator": "GPU",
    "colab": {
      "gpuType": "T4",
      "provenance": []
    },
    "kernelspec": {
      "display_name": "Python 3",
      "name": "python3"
    },
    "language_info": {
      "name": "python"
    }
  },
  "nbformat": 4,
  "nbformat_minor": 0
}
